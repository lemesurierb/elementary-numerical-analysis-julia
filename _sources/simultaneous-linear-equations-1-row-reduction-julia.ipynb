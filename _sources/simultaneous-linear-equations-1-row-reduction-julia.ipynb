{
 "cells": [
  {
   "cell_type": "markdown",
   "metadata": {},
   "source": [
    "# Solving Simultaneous Linear Equations, Part 1: Row Reduction/Gaussian Elimination\n",
    "\n",
    "**References:**\n",
    "- Section 2.1.1 of [Sauer](../references.html#Sauer)\n",
    "- Section 6.1 of [Burden&Faires](../references.html#Burden-Faires)\n",
    "- Section 7.1 of [Chenney&Kincaid](../references.html#Chenney-Kincaid)\n",
    "\n",
    "The basic strategy for solving simultaneous linear equations is row reduction and backward substitution,\n",
    "sometimes known as naive Gaussian elimination."
   ]
  },
  {
   "cell_type": "markdown",
   "metadata": {},
   "source": [
    "## Introduction\n",
    "\n",
    "The problem of solving a system of $n$ simultaneous linear equations in $n$ unknowns,\n",
    "with matrix-vector form $A x = b$, is quite thoroughly understood as far as having a good general-purpose methods usable with any $n \\times n$ matrix $A$: essentially, Gaussian elimination (or row-reduction) as seen in most linear algebra courses, combined with some modifications to stay well away from division by zero: *partial pivoting*.\n",
    "Also, good robust software for this general case is readily available, for example in the Python packages NumPy and SciPy, or in Matlab.\n",
    "\n",
    "Nevertheless, this basic algorithm can be very slow when $n$ is large – as it often is when dealing with differential equations (even more so with *partial* differential equations).\n",
    "We will see that it requires about $n^3/3$ arithmetic operations.\n",
    "\n",
    "Thus I will summarise the basic method of row reduction or Gaussian elimination, and then build on it with methods for doing things more robustly, and on methods for doing it faster in some important special cases:\n",
    "\n",
    "1. When one has to solve many systems $A x^{(m)} = b^{(m)}$ with the same matrix $A$ but different right-hand side vectors $b^{(m)}.$\n",
    "\n",
    "2. When $A$ is *banded*: most elements are zero, and all the non-zero elements $a_{i,j}$ are near the main diagonal: $|i - j|$ is far less than $n$. (*Aside on notation:* \"far less than\" is sometimes denoted $\\ll$, as in $|i-j| \\ll n$.)\n",
    "\n",
    "3. When $A$ is *strictly diagonally dominant*: each diagonal element $a_{i,i}$ is larger in magnitude that the sum of the magnitudes of all other elements in the same row."
   ]
  },
  {
   "cell_type": "markdown",
   "metadata": {},
   "source": [
    "We might also explore some further topics, perhaps as individual projects:\n",
    "\n",
    "4. When $A$ is *positive definite*: symmetric ($a_{i,j} = a_{j,i}$) and with all eigenvalues positive.\n",
    "This last condition would seem hard to verify, since computing all the eigenvalues of $A$ is harder that solving $Ax = b$,\n",
    "but there are important situations where this property is automatically guaranteed, such as with *Galerkin* and *finite-element methods* for solving boundary value problems for differential equations.\n",
    "\n",
    "5. When $A$ is *sparse*: most elements are zero, but not necessarily with all the non-zero elements near the main diagonal."
   ]
  },
  {
   "cell_type": "code",
   "execution_count": 1,
   "metadata": {},
   "outputs": [],
   "source": [
    "# Enable graphics, basically with the Python package matplotlib.pyplot\n",
    "using PyPlot"
   ]
  },
  {
   "cell_type": "code",
   "execution_count": 2,
   "metadata": {},
   "outputs": [],
   "source": [
    "# Enable LaTeX math formatting in text strings, e.g. L\"y=x^2\"\n",
    "using LaTeXStrings"
   ]
  },
  {
   "cell_type": "code",
   "execution_count": 3,
   "metadata": {},
   "outputs": [],
   "source": [
    "n_plot_points = 100;"
   ]
  },
  {
   "cell_type": "markdown",
   "metadata": {},
   "source": [
    "## Strategy for getting from mathematical facts to a good algorithm and then to its implentation in [Julia] code\n",
    "\n",
    "Here I take the opportunity to illustrate some useful strategies for getting from mathematical facts and ideas to good algorithms and working code for solving a numerical problem.\n",
    "The pattern we will see here, and often later, is:\n",
    "\n",
    "### Step 1. Get a basic algorithm:\n",
    "1. Start with mathematical facts (like the equations $\\sum_{j=1}^n a_{ij}x_j = b_i$).\n",
    "2. Solve to get an equation for each unknown — or for an updated aproximation of each unknown — in terms of other quantitities.\n",
    "3. Specify an order of evaluation in which all the quantities at right are evaluated earlier.\n",
    "\n",
    "In this, it is often best to start with a verbal description before specifying the details in more precise and detailed mathematical form.\n",
    "\n",
    "### Step 2. Refine to get a more **robust** algorithm:\n",
    "1. Identify cases that can lead to failure due to division by zero and such, and revise to avoid them.\n",
    "2. Avoid inaccuracy due to problems like severe rounding error. One rule of thumb is that anywhere that a zero value is a fatal flaw (in particular, division by zero), a very small value is also a hazard when rounding error is present.\n",
    "So **avoid very small denominators**. (We will soon examine this through the phenomenon of **loss of significance** and it extreme case **catastrophic cancellation**.)\n",
    "\n",
    "### Step 3. Refine to get a more **efficient** algorithm\n",
    "For example,\n",
    "- Avoid repeated evaluation of exactly the same quantity.\n",
    "- Avoid redundant calculations, such as ones whose value can be determnied in advance;\n",
    "for example, values that can be shown in advance to be zero.\n",
    "- Compare and choose between alternative algorithms."
   ]
  },
  {
   "cell_type": "markdown",
   "metadata": {},
   "source": [
    "## Gaussian Elimination, a.k.a. Row Reduction\n",
    "\n",
    "We start by considering the most basic algorithm, based on ideas seen in a linear algebra course.\n",
    "\n",
    "The problem is best stated as a collection of equations for individual numerical values:\n",
    "\n",
    "Given coefficients $a_{i,j} 1 \\leq i \\leq n,\\, 1 \\leq j \\leq n$ and right-hand side values $b_i,\\, 1 \\leq i \\leq n$,\n",
    "solve for the $n$ unknowns $x_j,\\, 1 \\leq j \\leq n$ in the equations\n",
    "$$\n",
    "\\sum_{j=1}^n a_{i,j} x_j = b_i,\\, 1 \\leq i \\leq n.\n",
    "$$\n",
    "\n",
    "In verbal form, the basic strategy of *row reduction* or *Gaussian elimination* is this:\n",
    "\n",
    "- **Choose** one equation and use it to eliminate one **chosen** unknown from all the other equations, leaving that chosen equation plus $n-1$ equations in $n-1$ unknowns.\n",
    "- Repeat recursively, at each stage using one of the remaining equations to eliminate one of the remaining unknowns from all the other equations.\n",
    "- This gives a final equation in just one unknown, preceeded by an equation in that unknown plus one other, and so on: solve them in this order, from last to first."
   ]
  },
  {
   "cell_type": "markdown",
   "metadata": {},
   "source": [
    "### Determining those choices, to produce a first algorithm: \"Naive Gaussian Elimination\"\n",
    "\n",
    "A precise algorithm must include rules specifying all the choices indicated above.\n",
    "The simplest \"naive\" choice, which works in most but not all cases, is to eliminate from the top to bottom and left to right:\n",
    "\n",
    "- Use the first equation to eliminate the first unknown from all other equations.\n",
    "- Repeat recursively, at each stage using the first remaining equation to eliminate the first remaining unknown. Thus, at step $k$, equation $k$ is used to eliminate unknown $x_k$.\n",
    "- This gives one equation in just the last unknown $x_n$; another equation in the last two unknowns $x_{n-1}$ and $x_n$, and so on: solve them in this reverse order, evaluating the unknowns from last to first."
   ]
  },
  {
   "cell_type": "markdown",
   "metadata": {},
   "source": [
    "This usually works, but can fail because at some stage the (updated) $k$-th equation might not include the $k$-th unknown: that is, its coefficient might be zero, leading to division by zero.\n",
    "\n",
    "We will refine the algorithm to deal with that in the later section\n",
    "[Solving Simultaneous Linear Equations, Part 2](simultaneous-linear-equations-2-pivoting-python.ipynb)"
   ]
  },
  {
   "cell_type": "markdown",
   "metadata": {},
   "source": [
    "## The general case of solving $Ax = b$\n",
    "\n",
    "The problem of solving $Ax = b$ in general, when all you know is that $A$ is an $n \\times n$ matrix and $b$ is an $n$-vector, can in most cases be handled well by using standard software rather than by writing your own code. Here is an example in Julia, solving\n",
    "\n",
    "$$\n",
    "\\left[ \\begin{array}{rrr} 4 & 2 & 7 \\\\ 3 & 5 & -6 \\\\ 1 & -3 & 2 \\end{array} \\right]\n",
    "\\left[ \\begin{array}{r} x_1 \\\\ x_2 \\\\ x_3 \\end{array} \\right]\n",
    "= \\left[ \\begin{array}{r} 2 \\\\ 3 \\\\ 4 \\end{array} \\right]\n",
    "$$"
   ]
  },
  {
   "cell_type": "code",
   "execution_count": 4,
   "metadata": {},
   "outputs": [
    {
     "name": "stdout",
     "output_type": "stream",
     "text": [
      "A =\n",
      "[4.0 2.0 7.0; 3.0 5.0 -6.0; 1.0 -3.0 2.0]\n",
      "b = [2.0, 3.0, 4.0]\n",
      "A*b = [42.0, -3.0, 1.0]\n"
     ]
    }
   ],
   "source": [
    "A = [4. 2. 7.; 3. 5. -6.; 1. -3. 2.]\n",
    "println(\"A =\\n$(A)\")\n",
    "b = [2.; 3.; 4.]\n",
    "println(\"b = $(b)\")\n",
    "println(\"A*b = $(A*b)\")"
   ]
  },
  {
   "cell_type": "markdown",
   "metadata": {},
   "source": [
    "### Programming Note\n",
    "\n",
    "In some programing languages it can be important to specify that the entries are real numbers (type \"float\");\n",
    "otherwise one might get calculations done with integer arithmetic, as in \"4/3 = 1\".\n",
    "\n",
    "One way to do this is as above: putting a decimal point in the numbers."
   ]
  },
  {
   "cell_type": "markdown",
   "metadata": {},
   "source": [
    "Julia mimics Matlab notation for \"dividing from the left:\n",
    "the solution of $Ax = b$ can be written as $x = A^{-1} b$, but is not $b A^{-1}$, which is what you get from the usual \"divide from the right\" notation of `b/A`."
   ]
  },
  {
   "cell_type": "code",
   "execution_count": 5,
   "metadata": {},
   "outputs": [],
   "source": [
    "x = A\\b;"
   ]
  },
  {
   "cell_type": "markdown",
   "metadata": {},
   "source": [
    "Aside — see what goes wrong here:"
   ]
  },
  {
   "cell_type": "code",
   "execution_count": 6,
   "metadata": {},
   "outputs": [
    {
     "ename": "LoadError",
     "evalue": "DimensionMismatch(\"Both inputs should have the same number of columns\")",
     "output_type": "error",
     "traceback": [
      "DimensionMismatch(\"Both inputs should have the same number of columns\")",
      "",
      "Stacktrace:",
      " [1] /(::Array{Float64,1}, ::Array{Float64,2}) at /Users/julia/buildbot/worker/package_macos64/build/usr/share/julia/stdlib/v1.5/LinearAlgebra/src/generic.jl:1123",
      " [2] top-level scope at In[6]:1",
      " [3] include_string(::Function, ::Module, ::String, ::String) at ./loading.jl:1091"
     ]
    }
   ],
   "source": [
    "dividing_on_the_wrong_side = b/A"
   ]
  },
  {
   "cell_type": "code",
   "execution_count": 7,
   "metadata": {},
   "outputs": [
    {
     "name": "stdout",
     "output_type": "stream",
     "text": [
      "Julia says that the solution of Ax=b is x=[1.8116883116883116, -1.0324675324675323, -0.45454545454545453]\n"
     ]
    }
   ],
   "source": [
    "println(\"Julia says that the solution of Ax=b is x=$(x)\")"
   ]
  },
  {
   "cell_type": "code",
   "execution_count": 8,
   "metadata": {},
   "outputs": [],
   "source": [
    "# Check the backward error, also known as the residual\n",
    "r = b-A*x;"
   ]
  },
  {
   "cell_type": "code",
   "execution_count": 9,
   "metadata": {},
   "outputs": [
    {
     "name": "stdout",
     "output_type": "stream",
     "text": [
      "\n",
      "As a check, the residual (or backward error) is\n",
      "    r = b - Ax = [0.0, -4.440892098500626e-16, 8.881784197001252e-16]\n",
      "and its infinity (or 'maximum') norm is\n",
      "    ||r|| = 8.881784197001252e-16\n"
     ]
    }
   ],
   "source": [
    "println(\"\\nAs a check, the residual (or backward error) is\\n    r = b - Ax = $(r)\")\n",
    "println(\"and its infinity (or 'maximum') norm is\\n    ||r|| = $(maximum(abs.(r)))\")"
   ]
  },
  {
   "cell_type": "markdown",
   "metadata": {},
   "source": [
    "## The naive Gaussian elimination algorithm, in pseudo-code\n",
    "\n",
    "Here the elements of the transformed matrix and vector after step $k$ are named $a_{i,j}^{(k)}$ and $b_{k}^{(k)}$, so that the original values are $a_{i,j}^{(0)} = a_{i,j}$ and $b_{i}^{(0)} = b_{i}$.\n",
    "\n",
    "The name $l_{i,k}$ is given to the multiple of row $k$ that is subtracted from row $i$ at step $k$. This naming might seem redundant, but it becomes very useful later."
   ]
  },
  {
   "cell_type": "markdown",
   "metadata": {},
   "source": [
    "for k from 1 to n-1: $\\qquad$ *Step k: get zeros in column k below row k:*\n",
    "<br>\n",
    "$\\quad$ for i from k+1 to n:\n",
    "<br>\n",
    "$\\qquad$ *Evaluate the multiple of row k to subtract from row i:*\n",
    "<br>\n",
    "$\\quad\\quad l_{i,k} = a_{i,k}^{(k-1)}/a_{k,k}^{(k-1)}$ $\\qquad$ **If** $a_{k,k}^{(k-1)} \\neq 0$!\n",
    "<br>\n",
    "$\\qquad$ *Subtract $(l_{i,k}$ times row k) from row i in matrix A ...:*\n",
    "<br>\n",
    "$\\quad\\quad$ for j from 1 to n:\n",
    "<br>\n",
    "$\\quad\\quad\\quad a_{i,j}^{(k)} = a_{i,j}^{(k-1)} - l_{i,k} a_{k,j}^{(k-1)}$\n",
    "<br>\n",
    "$\\quad\\quad$ end for\n",
    "<br>\n",
    "$\\qquad$ ... and at right, subtract $(l_{i,k}$ times $b_k)$ from $b_i$:\n",
    "<br>\n",
    "$\\quad\\quad b_i^{(k)} = b_i^{(k-1)} - l_{i,k} b_{k}^{(k-1)}$ \n",
    "<br>\n",
    "$\\quad$ end for"
   ]
  },
  {
   "cell_type": "markdown",
   "metadata": {},
   "source": [
    "The rows before $i=k$ are unchanged, so they are ommited from the update;\n",
    "however, in a situation where we need to complete the definitions of $A^{(k)}$ and $b^{(k)}$ we would also need the following inside the `for k` loop:"
   ]
  },
  {
   "cell_type": "markdown",
   "metadata": {},
   "source": [
    "$\\quad$ for i from 1 to k:\n",
    "<br>\n",
    "$\\quad\\quad$ for j from 1 to n:\n",
    "<br>\n",
    "$\\quad\\quad\\quad a_{i,j}^{(k)} = a_{i,j}^{(k-1)}$\n",
    "<br>\n",
    "$\\quad\\quad$ end for\n",
    "<br>\n",
    "$\\quad\\quad b_i^{(k)} = b_i^{(k-1)}$\n",
    "<br>\n",
    "$\\quad$ end for"
   ]
  },
  {
   "cell_type": "markdown",
   "metadata": {},
   "source": [
    "However, the algorithm will usually be implemented by overwriting the previous values in an array with new ones, and then this part is redundant."
   ]
  },
  {
   "cell_type": "markdown",
   "metadata": {},
   "source": [
    "The next improvement in efficiency: the updates in the first $k$ columns at step $k$ give zero values (that is the key idea of the algorithm!), so there is no need to compute or store those zeros, and thus the only calculations needed in the above `for j from 1 to n` loop are covered by `for j from k+1 to n`.\n",
    "Thus from now on we use only the latter: except when, for demonstration purposes, we need those zeros.\n",
    "\n",
    "Thus, the standard algorithm looks like this:"
   ]
  },
  {
   "cell_type": "markdown",
   "metadata": {},
   "source": [
    "for k from 1 to n-1: $\\qquad$ *Step k: Get zeros in column k below row k:*\n",
    "<br>$\\quad$ for i from k+1 to n: $\\qquad$ *Update only the rows that change: from k+1 on:*\n",
    "<br>$\\qquad$ *Evaluate the multiple of row k to subtract from row i:*\n",
    "<br>$\\quad\\quad l_{i,k} = a_{i,k}^{(k-1)}/a_{k,k}^{(k-1)}$ $\\qquad$ **If** $a_{k,k}^{(k-1)} \\neq 0$!\n",
    "<br>$\\qquad$ *Subtract $(l_{i,k}$ times row k) from row i in matrix A, in the columns that are not automaticaly zero:*\n",
    "<br>$\\quad\\quad$ for j from k+1 to n:\n",
    "<br>$\\quad\\quad\\quad a_{i,j}^{(k)} = a_{i,j}^{(k-1)} - l_{i,k} a_{k,j}^{(k-1)}$\n",
    "<br>$\\quad\\quad$ end for\n",
    "<br>$\\qquad$ *and at right, subtract $(l_{i,k}$ times $b_k)$ from $b_i$:*\n",
    "<br>$\\quad\\quad b_i^{(k)} = b_i^{(k-1)} - l_{i,k} b_{k}^{(k-1)}$ \n",
    "<br>$\\quad$ end for"
   ]
  },
  {
   "cell_type": "markdown",
   "metadata": {},
   "source": [
    "## The naive Gaussian elimination algorithm, in Julia\n",
    "\n",
    "Conversion to actual Julia code is now quite straightforward; there is litle more to be done than:\n",
    "\n",
    "- Change the way that indices are described, from $b_i$ to `b[i]` and from $a_{i,j}$ to `A[i,j]`.\n",
    "\n",
    "- Use case consistently in array names, since the quirk in mathematical notation of using upper-case letters for matrix names but lower case letters for their elements is gone!\n",
    "In these notes, matrix names will be upper-case and vector names will be lower-case (even when a vector is considered as 1-column matrix).\n",
    "\n",
    "- Rather than create a new array for each matrix $A^{(0)}$, $A^{(0)}$, etc. and each vector $b^{(0)}$, $b^{(1)}$,\n",
    "we overwite each in the same array."
   ]
  },
  {
   "cell_type": "markdown",
   "metadata": {},
   "source": [
    "    for k in 1:n\n",
    "        for i in k+1:n\n",
    "            L[i,k] = A[i,k] / A[k,k]\n",
    "            for j in k+1:n\n",
    "                A[i,j] -= L[i,k] * A[k,j]\n",
    "            end\n",
    "            b[i] -= L[i,k] * b[k]\n",
    "        end\n",
    "    end"
   ]
  },
  {
   "cell_type": "markdown",
   "metadata": {},
   "source": [
    "To demonstrate this, some additions are needed:\n",
    "- Putting this algorithm into a function.\n",
    "- Getting the value $n$ needed for the loop, using the fact that it is the length of vector `b`.\n",
    "- Creating the array $L$.\n",
    "- Copying the input arrays `A` and `b` into new ones, `U` and `c`, so that the original arrays are not changed. That is, when the row reduction is completed, `U`  contains $A^{(n-1)}$ and `c` contains $b^{(n-1)}$.\n",
    "\n",
    "Also, for some demonstrations, the zero values below the main diagonal of `U` are inserted, though usually they would not be needed."
   ]
  },
  {
   "cell_type": "code",
   "execution_count": 10,
   "metadata": {},
   "outputs": [],
   "source": [
    "function rowReduce(A, b)\n",
    "    \"\"\"To avoid modifying the matrix and vector specified as input,\n",
    "    they are copied to new arrays, with the method .copy()\n",
    "    Warning: it does not work to say \"U = A\" and \"c = b\";\n",
    "    this makes these names synonyms, referring to the same stored data.\n",
    "    \"\"\"\n",
    "    println(\"rowReduce version 1\")\n",
    "\n",
    "    U = copy(A)  # not \"U=A\", which makes U and A synonyms\n",
    "    c = copy(b)\n",
    "    n = length(b)\n",
    "    L = zeros(n, n)\n",
    "    for k in 1:n-1\n",
    "        for i in k+1:n\n",
    "            # compute all the L values for column k:\n",
    "            L[i,k] = U[i,k] / U[k,k]  # Beware the case where U[k,k] is 0\n",
    "            for j in k+1:n\n",
    "                U[i,j] -= L[i,k] * U[k,j]\n",
    "            end\n",
    "            # Put in the zeros below the main diagonal in column k of U;\n",
    "            # this is not important for calculations, since those elements of U are not used in backward substitution,\n",
    "            # but it helps for displaying results and for checking the results via residuals.\n",
    "            U[i,k] = 0.\n",
    "            \n",
    "            c[i] -= L[i,k] * c[k]\n",
    "        end\n",
    "    end\n",
    "    for i in 2:n\n",
    "        for j in 1:i-1\n",
    "            U[i,j] = 0.\n",
    "        end\n",
    "    end\n",
    "    return (U, c)\n",
    "end;"
   ]
  },
  {
   "cell_type": "markdown",
   "metadata": {},
   "source": [
    "A helper function to \"pretty print\" matrices:"
   ]
  },
  {
   "cell_type": "code",
   "execution_count": 11,
   "metadata": {},
   "outputs": [],
   "source": [
    "function pretty_print(A; text=\"\")\n",
    "    (rows, cols) = size(A)\n",
    "    if text == \"\"\n",
    "        println(\"[\")\n",
    "    else\n",
    "        println(\"$(text)[\")\n",
    "    end\n",
    "    for row in 1:rows\n",
    "        for col in 1:cols\n",
    "            print(A[row,col], \" \")\n",
    "        end\n",
    "        println()\n",
    "    end\n",
    "    println(\"]\")\n",
    "end;"
   ]
  },
  {
   "cell_type": "code",
   "execution_count": 12,
   "metadata": {},
   "outputs": [
    {
     "name": "stdout",
     "output_type": "stream",
     "text": [
      "A is\n",
      "[\n",
      "4.0 2.0 7.0 \n",
      "3.0 5.0 -6.0 \n",
      "1.0 -3.0 2.0 \n",
      "]\n",
      "b = [2.0, 3.0, 4.0]\n"
     ]
    }
   ],
   "source": [
    "A = [4. 2. 7. ; 3. 5. -6. ; 1. -3. 2.]\n",
    "pretty_print(A, text=\"A is\\n\")\n",
    "b = [2. ; 3. ; 4.]\n",
    "println(\"b = $(b)\")"
   ]
  },
  {
   "cell_type": "code",
   "execution_count": 13,
   "metadata": {},
   "outputs": [
    {
     "name": "stdout",
     "output_type": "stream",
     "text": [
      "rowReduce version 1\n"
     ]
    }
   ],
   "source": [
    "(U, c) = rowReduce(A, b);\n",
    "#pretty_print(U, text=\"Without fixing zeros,\\nU\")"
   ]
  },
  {
   "cell_type": "code",
   "execution_count": 14,
   "metadata": {},
   "outputs": [
    {
     "name": "stdout",
     "output_type": "stream",
     "text": [
      "Row reduction gives U=\n",
      "[\n",
      "4.0 2.0 7.0 \n",
      "0.0 3.5 -11.25 \n",
      "0.0 0.0 -11.0 \n",
      "]\n"
     ]
    }
   ],
   "source": [
    "pretty_print(U, text=\"Row reduction gives U=\\n\")"
   ]
  },
  {
   "cell_type": "code",
   "execution_count": 15,
   "metadata": {},
   "outputs": [
    {
     "name": "stdout",
     "output_type": "stream",
     "text": [
      "c = [2.0, 1.5, 5.0]\n"
     ]
    }
   ],
   "source": [
    "println(\"c = $(c)\")"
   ]
  },
  {
   "cell_type": "markdown",
   "metadata": {},
   "source": [
    "Let's take advantage of the fact that we have used Julia's built-in linear algebra command `b\\A` to get a very accurate approximation of the solution $x$ to $Ax=b$; this should also solve $Ux=c$, so check the backward error, a.k.a. the *residual*:"
   ]
  },
  {
   "cell_type": "code",
   "execution_count": 16,
   "metadata": {},
   "outputs": [
    {
     "name": "stdout",
     "output_type": "stream",
     "text": [
      "\n",
      "The residual (backward error) r = c-Ux is [0.0, 0.0, 0.0],\n",
      "    with maximum norm 0.0\n"
     ]
    }
   ],
   "source": [
    "r = c-U*x\n",
    "println(\"\\nThe residual (backward error) r = c-Ux is $(r),\\n    with maximum norm $(maximum(abs.(r)))\")"
   ]
  },
  {
   "cell_type": "markdown",
   "metadata": {},
   "source": [
    "### Julia Note 1: Operations on a sequence of array indices, with \"slicing\"\n",
    "\n",
    "Julia code can specify vector operations on a range of indices $[c,d]$, referred to with the slice notaiton `c:d`.\n",
    "For example, the *slice* notation `A[c:d,j]` refers to the array containing the $d-c+1$ elements `A[i,j]` for $i$ in the  interval $[c,d]$.\n",
    "\n",
    "Thus, each of the three arithmetic calculations above can be specified over a range of index values in a single command, eliminating all the inner-most `for` loops;\n",
    "only `for` loops that contains other `for` loops remain.\n",
    "\n",
    "This is called *vectorizing*, and apart from mathematical elegance, it usually allows far faster execution."
   ]
  },
  {
   "cell_type": "markdown",
   "metadata": {},
   "source": [
    "    for k in 1:n\n",
    "        L[k+1:n,k] = A[k+1:n,k] / A[k,k]\n",
    "        # The indexing \"k:k\" below ensures that these are treated as matrices with 1 row/resp. 1 column,\n",
    "        # not as vectors, so that matrix-matrix multiplication is done correctly.\n",
    "        A[k+1:n,k+1:n] -= L[k+1:n,k:k] * A[k:k,k+1:n]\n",
    "        b[k+1:n] -= L[k+1:n,k] * b[k]\n",
    "        end\n",
    "    end"
   ]
  },
  {
   "cell_type": "markdown",
   "metadata": {},
   "source": [
    "I will break my usual guideline by redefining `rowReduce`,\n",
    "since this is just a restatement of exactly the same algorithm.\n",
    "\n",
    "While I am about it, I add a `demoMode`, for display of intermediate results."
   ]
  },
  {
   "cell_type": "code",
   "execution_count": 17,
   "metadata": {},
   "outputs": [],
   "source": [
    "function rowReduce(A, b; demoMode=false)\n",
    "    \"\"\"To avoid modifying the matrix and vector specified as input,\n",
    "    they are copied to new arrays, with the method .copy()\n",
    "    Warning: it does not work to say \"U = A\" and \"c = b\";\n",
    "    this makes these names synonyms, referring to the same stored data.\n",
    "    \n",
    "    This version vectorizes the inner loops, and all of the \"i, j\" loop for updating U.\n",
    "    \"\"\"\n",
    "    if demoMode\n",
    "        println(\"rowReduce version 2: some loops vectorized\")\n",
    "    end\n",
    "    U = copy(A)  # not \"U=A\", which makes U and A synonyms\n",
    "    c = copy(b)\n",
    "    n = length(b)\n",
    "    L = zeros(n, n)\n",
    "    for k in 1:n-1\n",
    "        if demoMode; println(\"Step $(k):\"); end\n",
    "        # compute all the L values for column k:\n",
    "        L[k+1:n,k] = U[k+1:n,k] / U[k,k]  # Beware the case where U[k,k] is 0\n",
    "        U[k+1:n,k+1:n] -= L[k+1:n,k:k] * U[k:k,k+1:n]\n",
    "        c[k+1:n] -= L[k+1:n,k] * c[k]\n",
    "        \n",
    "        # Insert the below-diagonal zeros in column k;\n",
    "        # this is not important for calculations, since those elements of U are not used in backward substitution,\n",
    "        # but it helps for displaying results and for checking the results via residuals.\n",
    "        U[k+1:n,k] .= 0.0\n",
    "\n",
    "        if demoMode\n",
    "            pretty_print(U, text=\"After step $(k) the matrix is\\nU\")\n",
    "            println(\"and the right-hand side is $(c)\")\n",
    "        end\n",
    "    end\n",
    "     return (U, c)\n",
    "end;"
   ]
  },
  {
   "cell_type": "markdown",
   "metadata": {},
   "source": [
    "Repeating the above testing:"
   ]
  },
  {
   "cell_type": "code",
   "execution_count": 18,
   "metadata": {},
   "outputs": [
    {
     "name": "stdout",
     "output_type": "stream",
     "text": [
      "rowReduce version 2: some loops vectorized\n",
      "Step 1:\n",
      "After step 1 the matrix is\n",
      "U[\n",
      "4.0 2.0 7.0 \n",
      "0.0 3.5 -11.25 \n",
      "0.0 -3.5 0.25 \n",
      "]\n",
      "and the right-hand side is [2.0, 1.5, 3.5]\n",
      "Step 2:\n",
      "After step 2 the matrix is\n",
      "U[\n",
      "4.0 2.0 7.0 \n",
      "0.0 3.5 -11.25 \n",
      "0.0 0.0 -11.0 \n",
      "]\n",
      "and the right-hand side is [2.0, 1.5, 5.0]\n",
      "Row reduction gives U=\n",
      "[\n",
      "4.0 2.0 7.0 \n",
      "0.0 3.5 -11.25 \n",
      "0.0 0.0 -11.0 \n",
      "]\n",
      "and right-hand side [2.0, 1.5, 5.0]\n"
     ]
    }
   ],
   "source": [
    "(U, c) = rowReduce(A, b, demoMode=true);\n",
    "#println(\"\\nRow reduction gives\")\n",
    "pretty_print(U, text=\"Row reduction gives U=\\n\")\n",
    "println(\"and right-hand side $(c)\")"
   ]
  },
  {
   "cell_type": "markdown",
   "metadata": {},
   "source": [
    "This procedure is *backward substitution*, giving the algorithm\n",
    "\n",
    "$x_n = c_n/u_{n,n}$\n",
    "<br>for i from n-1 down to 1\n",
    "<br>$\\displaystyle \\quad x_i = \\frac{c_i - \\sum_{j=i+1}^{n} u_{i,j} x_j}{u_{i,i}}$\n",
    "<br>end for"
   ]
  },
  {
   "cell_type": "markdown",
   "metadata": {},
   "source": [
    "This works so long as none of the main diagonal terms $u_{i,i}$ is zero, because when done in this order, everything on the right hand side is known by the time it is evaluated.\n",
    "\n",
    "For future reference, note that the elements $u_{k,k}$ that must be non-zero here, the ones on the **main diagonal** of $U$, are the same as the elements $a_{k,k}^{(k)}$ that must be non-zero in the row reduction stage above, because after stage $k$, the elements of row $k$ do not change any more: $a_{k,k}^{(k)} = a_{k,k}^{(n-1)} = u_{k,k}$."
   ]
  },
  {
   "cell_type": "markdown",
   "metadata": {},
   "source": [
    "### Julia Note 2. Indexing from the end of an array and counting backwards\n",
    "\n",
    "To express the above backwards counting in Julia, we have to deal with the fact that `a:b` counts upwards.\n",
    "\n",
    "This is dealt with the extended form `a:increment:b`, which increments by `step` instead of by one,\n",
    "so that `a:1:b` is the same as `a:b` while `a:-1:b` counts down: $a, a-1, \\dots, b+1, b$.\n",
    "\n",
    "One more bit of Julia: for an $n$-element single-index array `v`, the sum of its elements $\\sum_{i=1}^{n} v_i$ is given by `sum(v)`.\n",
    "Thus $\\sum_{i=a}^{b} v_i$, the sum over a subset of indices $[a,b]$, is given by `sum(v[a:b])`."
   ]
  },
  {
   "cell_type": "markdown",
   "metadata": {},
   "source": [
    "### The backward substitution algorithm in Julia\n",
    "\n",
    "With all the above Julia details, the core code for backward substitution is:\n",
    "\n",
    "    x[n] = c[n]/U[n,n]\n",
    "    for i in n-1:-1:1\n",
    "        x[i] = (c[i] - U[i,i+1:] * x[i+1:n])) / U[i,i]\n",
    "    end"
   ]
  },
  {
   "cell_type": "markdown",
   "metadata": {},
   "source": [
    "**Aside/preview:** Note that the backward substitution algorithm and its Python coding have a nice mathematical advantage over the row reduction algorithm above: the precise mathematical statement of the algorithm does not need any intermediate quantities distinguished by superscripts ${}^{(k)}$, and correspondingly, all variables in the code have fixed meanings, rather than changing at each step.\n",
    "\n",
    "In other words, all uses of the equal sign are mathematically correct as equations!\n",
    "\n",
    "This can be advantageous in creating algorithms and code that is more understandable and more readily verified to be correct, and is an aspect of the *functional programming* approach.\n",
    "We will soon go part way to that *functional* ideal, by rephrasing Gaussian elimination in a form where all variables have clear, fixed meanings, corresponding to the natural mathematical description of the process: the method of **LU factorization** to be seen in Section 8.1 of the text **Numerical Mathematics and Computing**."
   ]
  },
  {
   "cell_type": "markdown",
   "metadata": {},
   "source": [
    "As a final demonstration, we put this second version of the code into a complete working Python function and test it:"
   ]
  },
  {
   "cell_type": "code",
   "execution_count": 19,
   "metadata": {},
   "outputs": [],
   "source": [
    "function backwardSubstitution(U, c; demoMode=false)\n",
    "    n = length(c)\n",
    "    x = zeros(n)\n",
    "    x[n] = c[n]/U[n,n]\n",
    "    if demoMode\n",
    "        println(\"x_$(n) = $(x[n])\")\n",
    "    end\n",
    "    for i in n-1:-1:1\n",
    "        if demoMode\n",
    "            println(\"i=$(i)\")\n",
    "        end\n",
    "        x[i] = ( c[i] - sum(U[i,i+1:n] .* x[i+1:n]) ) / U[i,i]\n",
    "        if demoMode\n",
    "            print(\"x_$(i) = $(x[i])\")\n",
    "        end\n",
    "    end\n",
    "    return x\n",
    "end;"
   ]
  },
  {
   "cell_type": "code",
   "execution_count": 20,
   "metadata": {},
   "outputs": [
    {
     "name": "stdout",
     "output_type": "stream",
     "text": [
      "x_3 = -0.45454545454545453\n",
      "i=2\n",
      "x_2 = -1.0324675324675323i=1\n",
      "x_1 = 1.8116883116883116"
     ]
    },
    {
     "data": {
      "text/plain": [
       "3-element Array{Float64,1}:\n",
       "  1.8116883116883116\n",
       " -1.0324675324675323\n",
       " -0.45454545454545453"
      ]
     },
     "execution_count": 20,
     "metadata": {},
     "output_type": "execute_result"
    }
   ],
   "source": [
    "x = backwardSubstitution(U, c, demoMode=true)"
   ]
  },
  {
   "cell_type": "code",
   "execution_count": 21,
   "metadata": {},
   "outputs": [
    {
     "name": "stdout",
     "output_type": "stream",
     "text": [
      "x = [1.8116883116883116, -1.0324675324675323, -0.45454545454545453]\n",
      "The residual b - Ax = [0.0, -4.440892098500626e-16, 8.881784197001252e-16],\n",
      "    with maximum norm 8.881784197001252e-16\n"
     ]
    }
   ],
   "source": [
    "print(\"x = $(x)\")\n",
    "r = b - A*x\n",
    "println(\"\\nThe residual b - Ax = $(r),\")\n",
    "println(\"    with maximum norm $(maximum(abs.(r)))\")"
   ]
  },
  {
   "cell_type": "markdown",
   "metadata": {},
   "source": [
    "## Two code testing hacks: starting from a known solution, and using randomly generated examples\n",
    "\n",
    "An often useful strategy in developing and testing code is to create a test case with a known solution;\n",
    "another is to use random numbers to avoid accidently using a test case that in unusually easy."
   ]
  },
  {
   "cell_type": "code",
   "execution_count": 22,
   "metadata": {},
   "outputs": [],
   "source": [
    "# Preferred style is to have all \"import\" statements at the top,\n",
    "# but since this is the first time we've heard of module 'Random',\n",
    "# I did not want it to be mentioned mysteriously above.\n",
    "\n",
    "# This \"Pkg.add\" command need only be done \"once per computer\", to install it in the Julia environment;\n",
    "# thus, only uncomment and run this if othewise the subsequent \"import\" command tells you to do this,\n",
    "# and then comment it out again.\n",
    "#import Pkg; Pkg.add(\"Random\")\n",
    "\n",
    "using Random: rand!"
   ]
  },
  {
   "cell_type": "code",
   "execution_count": 23,
   "metadata": {},
   "outputs": [
    {
     "name": "stdout",
     "output_type": "stream",
     "text": [
      "x_random = [-0.7425582823576891, -0.05243481121617011, 0.49139100148265547]\n"
     ]
    }
   ],
   "source": [
    "n = length(b)\n",
    "x_random = zeros(n)  # An array the same length as b\n",
    "rand!(x_random)  # fill with random values, uniform in [0, 1)\n",
    "(x_random *= 2.) .-= 1.  # double and then subtract 1: now uniform in [-1, 1)\n",
    "println(\"x_random = $(x_random)\")"
   ]
  },
  {
   "cell_type": "markdown",
   "metadata": {},
   "source": [
    "Create a right-hand side b that automatically makes `x_random` the correct solution:"
   ]
  },
  {
   "cell_type": "code",
   "execution_count": 24,
   "metadata": {},
   "outputs": [],
   "source": [
    "b_random = A * x_random;"
   ]
  },
  {
   "cell_type": "code",
   "execution_count": 25,
   "metadata": {},
   "outputs": [
    {
     "name": "stdout",
     "output_type": "stream",
     "text": [
      "A is\n",
      "[\n",
      "4.0 2.0 7.0 \n",
      "3.0 5.0 -6.0 \n",
      "1.0 -3.0 2.0 \n",
      "]\n",
      "b_random is [0.3646342585154918, -5.43819491204985, 0.3975281542561322]\n",
      "U is \n",
      "[\n",
      "4.0 2.0 7.0 \n",
      "0.0 3.5 -11.25 \n",
      "0.0 0.0 -11.0 \n",
      "]\n",
      "Residual c_random - U*x_random  = [0.0, 8.881784197001252e-16, 0.0]\n",
      "x_computed is [-0.742558282357689, -0.05243481121617017, 0.4913910014826554]\n",
      "Residual b_random-A*x_computed is [0.0, 0.0, -2.220446049250313e-16]\n",
      "Backward error is 2.220446049250313e-16\n",
      "Error x_random-x_computed is [-1.1102230246251565e-16, 6.245004513516506e-17, 5.551115123125783e-17]\n",
      "Absolute error |x_random-x_computed| is 1.1102230246251565e-16\n"
     ]
    }
   ],
   "source": [
    "pretty_print(A, text=\"A is\\n\")\n",
    "println(\"b_random is $(b_random)\")\n",
    "\n",
    "(U, c_random) = rowReduce(A, b_random)\n",
    "\n",
    "pretty_print(U, text=\"U is \\n\")\n",
    "println(\"Residual c_random - U*x_random  = $(c_random - U*x_random)\")\n",
    "x_computed = backwardSubstitution(U, c_random)\n",
    "println(\"x_computed is $(x_computed)\")\n",
    "r = b_random -  A*x_computed\n",
    "println(\"Residual b_random-A*x_computed is $(r)\")\n",
    "println(\"Backward error is $(maximum(abs.(r)))\")\n",
    "x_error = x_random - x_computed\n",
    "println(\"Error x_random-x_computed is $(x_error)\")\n",
    "println(\"Absolute error |x_random-x_computed| is $(maximum(abs.(x_error)))\")"
   ]
  },
  {
   "cell_type": "markdown",
   "metadata": {},
   "source": [
    "## What can go wrong? Three examples"
   ]
  },
  {
   "cell_type": "markdown",
   "metadata": {},
   "source": [
    "### Example 1\n",
    "#### An obvious division by zero problem\n",
    "\n",
    "Consider the system of two equations\n",
    "\n",
    "$$\\begin{split}\n",
    "x_2 &= 1\n",
    "\\\\\n",
    "x_1 + x_2 &= 2\n",
    "\\end{split}$$"
   ]
  },
  {
   "cell_type": "markdown",
   "metadata": {},
   "source": [
    "It is easy to see that this has the solution $x_1 = x_2 = 1$;\n",
    "in fact it is already in \"reduced form\".\n",
    "However when put into matrix form\n",
    "\n",
    "$$\n",
    "\\left[\\begin{array}{rr} 0 & 1 \\\\ 1 & 1 \\end{array}\\right]\n",
    "\\left[\\begin{array}{r} x_1 \\\\ x_2 \\end{array}\\right] = \\left[\\begin{array}{r} 1 \\\\ 2 \\end{array}\\right]\n",
    "$$\n",
    "\n",
    "the above algorithm fails, because the fist *pivot element* $a_{11}$ is zero:"
   ]
  },
  {
   "cell_type": "code",
   "execution_count": 26,
   "metadata": {},
   "outputs": [
    {
     "name": "stdout",
     "output_type": "stream",
     "text": [
      "A1 is\n",
      "[\n",
      "0.0 1.0 \n",
      "1.0 1.0 \n",
      "]\n",
      "b1 is [1.0, 1.0]\n"
     ]
    }
   ],
   "source": [
    "A1 = [0. 1. ; 1. 1.]\n",
    "b1 = [1. ; 1.]\n",
    "\n",
    "pretty_print(A1, text=\"A1 is\\n\")\n",
    "println(\"b1 is $(b1)\")"
   ]
  },
  {
   "cell_type": "code",
   "execution_count": 27,
   "metadata": {},
   "outputs": [
    {
     "name": "stdout",
     "output_type": "stream",
     "text": [
      "U1 is\n",
      "[\n",
      "0.0 1.0 \n",
      "0.0 -Inf \n",
      "]\n",
      "c1 is [1.0, -Inf]x1 is [NaN, NaN]"
     ]
    }
   ],
   "source": [
    "(U1, c1) = rowReduce(A1, b1)\n",
    "x1 = backwardSubstitution(U1, c1)\n",
    "\n",
    "pretty_print(U1, text=\"U1 is\\n\")\n",
    "print(\"c1 is $(c1)\")\n",
    "print(\"x1 is $(x1)\")"
   ]
  },
  {
   "cell_type": "markdown",
   "metadata": {},
   "source": [
    "**Julia Note 3.**\n",
    "- `Inf`, meaning \"infinity\", is a special value given as the result of calculations like division by zero.\n",
    "Surprisingly, it can have a sign!\n",
    "- `NaN`, meaning \"Not a Number\", is a special value given as the result of a calculation like `0/0`."
   ]
  },
  {
   "cell_type": "markdown",
   "metadata": {},
   "source": [
    "### Example 2\n",
    "#### A less obvious division by zero problem\n",
    "\n",
    "Next consider this system\n",
    "\n",
    "$$\n",
    "\\left[\\begin{array}{rrr} 1 & 1 & 1 \\\\ 1 & 1 & 2 \\\\ 1 & 2 & 2 \\end{array}\\right]\n",
    "\\left[\\begin{array}{r} x_1 \\\\ x_2 \\\\ x_3 \\end{array}\\right] = \\left[\\begin{array}{r} 3 \\\\ 4 \\\\ 5 \\end{array}\\right]\n",
    "$$\n",
    "\n",
    "The solution is $x_1 = x_2 = x_3 = 1$, and this time none of th diagonal elements is zero,\n",
    "so it is not so obvoius that a divisin be zero probelms will occur, but:"
   ]
  },
  {
   "cell_type": "code",
   "execution_count": 28,
   "metadata": {},
   "outputs": [
    {
     "name": "stdout",
     "output_type": "stream",
     "text": [
      "A2 is\n",
      "[\n",
      "1.0 1.0 1.0 \n",
      "1.0 1.0 2.0 \n",
      "1.0 2.0 2.0 \n",
      "]\n",
      "b2 is [3.0, 4.0, 5.0]\n"
     ]
    }
   ],
   "source": [
    "A2 = [1.  1.  1. ; 1.  1.  2. ; 1. 2. 2.]\n",
    "b2 = [3. ; 4. ; 5.]\n",
    "\n",
    "pretty_print(A2, text=\"A2 is\\n\")\n",
    "println(\"b2 is $(b2)\")"
   ]
  },
  {
   "cell_type": "code",
   "execution_count": 29,
   "metadata": {},
   "outputs": [
    {
     "name": "stdout",
     "output_type": "stream",
     "text": [
      "U2 is\n",
      "[\n",
      "1.0 1.0 1.0 \n",
      "0.0 0.0 1.0 \n",
      "0.0 0.0 -Inf \n",
      "]\n",
      "c2 is [3.0, 1.0, -Inf]\n",
      "x2 is [NaN, NaN, NaN]\n"
     ]
    }
   ],
   "source": [
    "(U2, c2) = rowReduce(A2, b2)\n",
    "x2 = backwardSubstitution(U2, c2)\n",
    "\n",
    "pretty_print(U2, text=\"U2 is\\n\")\n",
    "println(\"c2 is $(c2)\")\n",
    "println(\"x2 is $(x2)\")"
   ]
  },
  {
   "cell_type": "markdown",
   "metadata": {},
   "source": [
    "What happens here is that the first stage subtracts the first row from each of the others ..."
   ]
  },
  {
   "cell_type": "code",
   "execution_count": 30,
   "metadata": {},
   "outputs": [],
   "source": [
    "A2[2,:] -= A2[1,:]\n",
    "b2[2] -= b2[1]\n",
    "A2[3,:] -= A2[1,:]\n",
    "b2[3] -= b2[1];"
   ]
  },
  {
   "cell_type": "markdown",
   "metadata": {},
   "source": [
    "... and the new matrix has the same problem as above at the next stage:"
   ]
  },
  {
   "cell_type": "code",
   "execution_count": 31,
   "metadata": {},
   "outputs": [
    {
     "name": "stdout",
     "output_type": "stream",
     "text": [
      "Now A2 is\n",
      "[\n",
      "1.0 1.0 1.0 \n",
      "0.0 0.0 1.0 \n",
      "0.0 1.0 1.0 \n",
      "]\n",
      "and b2 is [3.0, 1.0, 2.0]\n"
     ]
    }
   ],
   "source": [
    "pretty_print(A2, text=\"Now A2 is\\n\")\n",
    "println(\"and b2 is $(b2)\")"
   ]
  },
  {
   "cell_type": "markdown",
   "metadata": {},
   "source": [
    "Thus, the second and third equations are\n",
    "\n",
    "$$\n",
    "\\left[\\begin{array}{rr} 0 & 1 \\\\ 1 & 1 \\end{array}\\right]\n",
    "\\left[\\begin{array}{r} x_2 \\\\ x_3 \\end{array}\\right] = \\left[\\begin{array}{r} 1 \\\\ 2 \\end{array}\\right]\n",
    "$$\n",
    "\n",
    "with the same problem as in Example 1."
   ]
  },
  {
   "cell_type": "markdown",
   "metadata": {},
   "source": [
    "### Example 3\n",
    "#### Problems caused by inexact arithmetic\n",
    "\n",
    "The equations\n",
    "\n",
    "$$\n",
    "\\left[\\begin{array}{rr} 1 & 10^{16} \\\\ 1 & 1 \\end{array}\\right]\n",
    "\\left[\\begin{array}{r} x_1 \\\\ x_2 \\end{array}\\right] = \\left[\\begin{array}{r} 1+10^{16} \\\\ 2 \\end{array}\\right]\n",
    "$$\n",
    "\n",
    "again have the solution $x_1 = x_2 = 1$, and the only division that happens in the above algorithm for row reduction is by that pivot element $a_{11} = 1, \\neq 0$, so with exact arithmetic, all would be well. But:"
   ]
  },
  {
   "cell_type": "code",
   "execution_count": 32,
   "metadata": {},
   "outputs": [
    {
     "name": "stdout",
     "output_type": "stream",
     "text": [
      "A3 is\n",
      "[\n",
      "1.0 1.0e16 \n",
      "1.0 1.0 \n",
      "]\n",
      "b3 is [1.0e16, 2.0]\n"
     ]
    }
   ],
   "source": [
    "A3 = [1.  1e16 ; 1. 1.]\n",
    "b3 = [1. + 1e16 ; 2.]\n",
    "\n",
    "pretty_print(A3, text=\"A3 is\\n\")\n",
    "println(\"b3 is $(b3)\")"
   ]
  },
  {
   "cell_type": "code",
   "execution_count": 33,
   "metadata": {},
   "outputs": [
    {
     "name": "stdout",
     "output_type": "stream",
     "text": [
      "U3 is\n",
      "[\n",
      "1.0 1.0e16 \n",
      "0.0 -1.0e16 \n",
      "]\n",
      "c3 is [1.0e16, -9.999999999999998e15]\n",
      "x3 is [2.0, 0.9999999999999998]\n"
     ]
    }
   ],
   "source": [
    "(U3, c3) = rowReduce(A3, b3)\n",
    "x3 = backwardSubstitution(U3, c3)\n",
    "\n",
    "pretty_print(U3, text=\"U3 is\\n\")\n",
    "println(\"c3 is $(c3)\")\n",
    "println(\"x3 is $(x3)\")"
   ]
  },
  {
   "cell_type": "markdown",
   "metadata": {},
   "source": [
    "This gets $x_2 = 1$ fairly accurately, but $x_1$ is completely wrong!\n",
    "\n",
    "One hint is that $b_1$, which should be $1 + 10^{16} = 1000000000000001$, is instead just given as $10^{16}$."
   ]
  },
  {
   "cell_type": "markdown",
   "metadata": {},
   "source": [
    "On the other hand, all is well with less large values, like $10^{15}$:"
   ]
  },
  {
   "cell_type": "code",
   "execution_count": 34,
   "metadata": {},
   "outputs": [
    {
     "name": "stdout",
     "output_type": "stream",
     "text": [
      "A3a is\n",
      "[\n",
      "1.0 1.0e15 \n",
      "1.0 1.0 \n",
      "]\n",
      "b3a is [1.000000000000001e15, 2.0]\n"
     ]
    }
   ],
   "source": [
    "A3a = [1.  1e15 ; 1.  1.]\n",
    "b3a = [1. + 1e15 ; 2.]\n",
    "\n",
    "pretty_print(A3a, text=\"A3a is\\n\")\n",
    "println(\"b3a is $(b3a)\")"
   ]
  },
  {
   "cell_type": "code",
   "execution_count": 35,
   "metadata": {},
   "outputs": [
    {
     "name": "stdout",
     "output_type": "stream",
     "text": [
      "U3a is\n",
      "[\n",
      "1.0 1.0e15 \n",
      "0.0 -9.99999999999999e14 \n",
      "]\n",
      "c3a is [1.000000000000001e15, -9.99999999999999e14]\n",
      "x3a is [1.0, 1.0]\n"
     ]
    }
   ],
   "source": [
    "(U3a, c3a) = rowReduce(A3a, b3a)\n",
    "x3a = backwardSubstitution(U3a, c3a)\n",
    "\n",
    "pretty_print(U3a, text=\"U3a is\\n\")\n",
    "println(\"c3a is $(c3a)\")\n",
    "println(\"x3a is $(x3a)\")"
   ]
  },
  {
   "cell_type": "markdown",
   "metadata": {},
   "source": [
    "### Example 4\n",
    "#### Avoiding small denominators\n",
    "\n",
    "The first equation is Example 3 can be divided by $10^{16}$ to get an equivalent system with the same problem:\n",
    "\n",
    "$$\n",
    "\\left[\\begin{array}{rr} 10^{-16} & 1 \\\\ 1 & 1 \\end{array}\\right]\n",
    "\\left[\\begin{array}{r} x_1 \\\\ x_2 \\end{array}\\right] = \\left[\\begin{array}{r} 1+10^{-16} \\\\ 2 \\end{array}\\right]\n",
    "$$\n",
    "\n",
    "Now the problem is more obvious: this system differs from the system in Example 1 just by a tiny change of $10^{-16}$ in that pivot elements $a_{11}$, and the problem is *division by a value very close to zero*."
   ]
  },
  {
   "cell_type": "code",
   "execution_count": 36,
   "metadata": {},
   "outputs": [
    {
     "name": "stdout",
     "output_type": "stream",
     "text": [
      "A4 is\n",
      "[\n",
      "1.0e-16 1.0 \n",
      "1.0 1.0 \n",
      "]\n",
      "b4 is [1.0, 2.0]\n"
     ]
    }
   ],
   "source": [
    "A4 = [1e-16  1. ; 1. 1.]\n",
    "b4 = [1. + 1e-16 ; 2.]\n",
    "\n",
    "pretty_print(A4, text=\"A4 is\\n\")\n",
    "println(\"b4 is $(b4)\")"
   ]
  },
  {
   "cell_type": "code",
   "execution_count": 37,
   "metadata": {},
   "outputs": [
    {
     "name": "stdout",
     "output_type": "stream",
     "text": [
      "U4 is\n",
      "[\n",
      "1.0e-16 1.0 \n",
      "0.0 -1.0e16 \n",
      "]\n",
      "c4 is [1.0, -9.999999999999998e15]\n",
      "x4 is [2.220446049250313, 0.9999999999999998]\n"
     ]
    }
   ],
   "source": [
    "(U4, c4) = rowReduce(A4, b4)\n",
    "x4 = backwardSubstitution(U4, c4)\n",
    "\n",
    "pretty_print(U4, text=\"U4 is\\n\")\n",
    "println(\"c4 is $(c4)\")\n",
    "println(\"x4 is $(x4)\")"
   ]
  },
  {
   "cell_type": "markdown",
   "metadata": {},
   "source": [
    "One might think that there is no such small denominator in Example 3, but what counts for being \"small\" is magnitude relative to other values — 1 is very small compared to $10^{16}$.\n",
    "\n",
    "To understand these problems more (and how to avoid them) it is time to explore\n",
    "[Machine Numbers, Rounding Error and Error Propagation ](machine-numbers-rounding-error-and-error-propagation-julia.ipynb)."
   ]
  },
  {
   "cell_type": "markdown",
   "metadata": {},
   "source": [
    "---\n",
    "\n",
    "This work is licensed under [Creative Commons Attribution-ShareAlike 4.0 International](https://creativecommons.org/licenses/by-sa/4.0/)"
   ]
  }
 ],
 "metadata": {
  "kernelspec": {
   "display_name": "Julia 1.5.3",
   "language": "julia",
   "name": "julia-1.5"
  },
  "language_info": {
   "file_extension": ".jl",
   "mimetype": "application/julia",
   "name": "julia",
   "version": "1.5.3"
  }
 },
 "nbformat": 4,
 "nbformat_minor": 4
}
