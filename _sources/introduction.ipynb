{
 "cells": [
  {
   "cell_type": "markdown",
   "id": "federal-tsunami",
   "metadata": {},
   "source": [
    "Julia: a New Alternative to Python and Matlab\n",
    "=============================================\n",
    "\n",
    "The two dominant dynamic programming language environments for numerical computing and graphics are\n",
    "- the open-source combination of Python with Numpy, Matplotlib, SciPy and other packages,\n",
    "as usef in this course,\n",
    "and\n",
    "- the older, commercial product Matlab(TM).\n",
    "\n",
    "Though I generally recommend the former, Matlab is long-established, espeiclain enginering fields, and arguably has a few advantages, like somewhat simpler notation for matrices and vectors.\n",
    "\n",
    "One more recent innovation is the [Julia language](https://julialang.org/),\n",
    "which for one thing combines many of the virtues of both:\n",
    "- Like Python, it is open source with some nice modern programming language features (some newer and improving on Python),\n",
    "while also being\n",
    "- more compatability in its syntax and notation with existing Matlab code and standard linear angebra notation\n",
    "— By the way, Julia code usually runs faster that either Python or Matlab.\n",
    "\n",
    "Thus I hav started developing a parallel version of this course and book that uses Julia in place of Python,\n",
    "and this section shows off a few drafts of sections of this conversion.\n",
    "\n",
    "P.S. What does *Jupyter mean*?\n",
    "\n",
    "\"JuPyteR\" is a portmanteau of the names of the three most imortant modern open-source programming tools for scientific computing:\n",
    "- Julia,\n",
    "- Python,\n",
    "and\n",
    "- R (which is for statistical computing).\n",
    "\n",
    "So in particular, Jupyter notebooks and Jupyter books work fine with Julia, and even with a mix of these languages."
   ]
  },
  {
   "cell_type": "markdown",
   "id": "perfect-factory",
   "metadata": {},
   "source": [
    "---\n",
    "This work is licensed under [Creative Commons Attribution-ShareAlike 4.0 International](https://creativecommons.org/licenses/by-sa/4.0/)"
   ]
  }
 ],
 "metadata": {
  "kernelspec": {
   "display_name": "Julia 1.5.3",
   "language": "julia",
   "name": "julia-1.5"
  },
  "language_info": {
   "file_extension": ".jl",
   "mimetype": "application/julia",
   "name": "julia",
   "version": "1.5.3"
  }
 },
 "nbformat": 4,
 "nbformat_minor": 5
}
