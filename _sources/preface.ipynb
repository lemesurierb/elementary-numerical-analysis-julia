{
 "cells": [
  {
   "cell_type": "markdown",
   "metadata": {},
   "source": [
    "Elementary Numerical Analysis with Julia\n",
    "=========================================\n",
    "\n",
    "**Under Construction** from its older sibling  \"... with Python\".\n",
    "For now, sections from that edition that have not yet been converted are here in the part\n",
    "*Future Sections; in Python for now*.\n",
    "\n",
    "**Brenton LeMesurier**\n",
    "\n",
    "University of Northern Colorado, Greeley, Colorado in Spring 2021,\n",
    "[brenton.lemesurier@unco.edu](mailto:brenton.lemesurier@unco.edu);\n",
    "<br>\n",
    "More permanent address: The College of Charleston, Charleston, South Carolina,\n",
    "[lemesurierb@cofc.edu](mailto:lemesurierb@cofc.edu)\n",
    "\n",
    "**Created on February 7, 2021**\n",
    "\n",
    "**Last Revised on March 18, 2021**\n",
    "\n",
    "Some recent updates (most recent first):\n",
    "\n",
    "- Continued conversion to Julia: now up to the section\n",
    "[Solving Simultaneous Linear Equations, Part 1: Row Reduction/Gaussian Elimination](simultaneous-linear-equations-1-row-reduction.ipynb)\n",
    "\n",
    "- Added a so-far unsuccessful example of creating and using a module (a.k.a. package) in the section\n",
    "[Root-finding Without Derivatives](root-finding-without-derivatives.ipynb)\n",
    "\n",
    "- Added a part with sections from the Python edition that have not yet been converted.\n",
    "\n",
    "- Created this book\n",
    "\n",
    "The material is based in part on Jupyter notebooks and other materials for the courses MATH 245, MATH 246, MATH 445 and MATH 545 at the College of Charleston, South Carolina amd MATH 375 at the University of Northern Colorado."
   ]
  },
  {
   "cell_type": "markdown",
   "metadata": {},
   "source": [
    "Some References for Further Reading\n",
    "-----------------------------------\n",
    "(As in the section [References](references.ipynb))\n",
    "\n",
    "- <a name=\"Sauer\">[Sauer]</a> *Numerical Analysis* by Timothy Sauer, 2nd or 3rd edition.\n",
    "- <a name=\"Burden-Faires\">[Burden&Faires]</a> *Numerical Analysis* by Richard L. Burden and J. Douglas Faires, 9th edition.\n",
    "- <a name=\"Chenney-Kincaid\">[Chenney&Kincaid]</a> *Numerical Mathematics and Computing* by Ward Chenney and David Kincaid.\n",
    "\n",
    "These will often be cited by [nickname in brackets]."
   ]
  },
  {
   "cell_type": "markdown",
   "metadata": {},
   "source": [
    "---\n",
    "This work is licensed under [Creative Commons Attribution-ShareAlike 4.0 International](https://creativecommons.org/licenses/by-sa/4.0/)"
   ]
  }
 ],
 "metadata": {
  "kernelspec": {
   "display_name": "Python 3",
   "language": "python",
   "name": "python3"
  },
  "language_info": {
   "codemirror_mode": {
    "name": "ipython",
    "version": 3
   },
   "file_extension": ".py",
   "mimetype": "text/x-python",
   "name": "python",
   "nbconvert_exporter": "python",
   "pygments_lexer": "ipython3",
   "version": "3.8.5"
  }
 },
 "nbformat": 4,
 "nbformat_minor": 4
}
