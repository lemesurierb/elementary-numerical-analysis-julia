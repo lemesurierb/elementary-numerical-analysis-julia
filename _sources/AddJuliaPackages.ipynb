{
 "cells": [
  {
   "cell_type": "markdown",
   "id": "composite-fiction",
   "metadata": {},
   "source": [
    "Add some useful Julia packages, such as PyPlot\n",
    "==============================================\n",
    "\n",
    "These only need to be done once."
   ]
  },
  {
   "cell_type": "code",
   "execution_count": null,
   "id": "acting-jurisdiction",
   "metadata": {},
   "outputs": [],
   "source": [
    "using Pkg"
   ]
  },
  {
   "cell_type": "code",
   "execution_count": null,
   "id": "together-auction",
   "metadata": {},
   "outputs": [],
   "source": [
    "#ENV[\"PYTHON\"]=\"/Applications/anaconda3/bin/python\""
   ]
  },
  {
   "cell_type": "code",
   "execution_count": null,
   "id": "criminal-proof",
   "metadata": {},
   "outputs": [],
   "source": [
    "# PyPlot seems to need pyqt: some attempts:\n",
    "#Pkg.add(\"pyqt\")\n",
    "#Pkg.add(\"PyQt5\")\n",
    "#Pkg.add(\"PyQt\")\n",
    "#Pkg.add(\"PySide\")"
   ]
  },
  {
   "cell_type": "code",
   "execution_count": null,
   "id": "confidential-motel",
   "metadata": {},
   "outputs": [],
   "source": [
    "Pkg.add(\"PyPlot\")"
   ]
  },
  {
   "cell_type": "markdown",
   "id": "insured-symphony",
   "metadata": {},
   "source": [
    "Deploy with\n",
    "\n",
    "`using LaTeXStrings`"
   ]
  },
  {
   "cell_type": "code",
   "execution_count": 2,
   "id": "rolled-atlas",
   "metadata": {},
   "outputs": [],
   "source": [
    "# Allow LaTeX notation in creating strings, using prefix \"L\"; for example:\n",
    "# L\"y = \\cos(x)\"\n",
    "Pkg.add(\"LaTeXStrings\")  # Only needed once!"
   ]
  },
  {
   "cell_type": "markdown",
   "id": "loose-burlington",
   "metadata": {},
   "source": [
    "Deploy with\n",
    "    \n",
    "`using LaTeXStrings`"
   ]
  }
 ],
 "metadata": {
  "kernelspec": {
   "display_name": "Julia 1.5.3",
   "language": "julia",
   "name": "julia-1.5"
  },
  "language_info": {
   "file_extension": ".jl",
   "mimetype": "application/julia",
   "name": "julia",
   "version": "1.5.3"
  }
 },
 "nbformat": 4,
 "nbformat_minor": 5
}
