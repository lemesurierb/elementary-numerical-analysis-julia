{
 "cells": [
  {
   "cell_type": "markdown",
   "metadata": {},
   "source": [
    "# Error Formulas for Polynomial Collocation \n",
    "\n",
    "**References:**\n",
    "- Section 3.2.1 *Interpolation error formula* of [Sauer](../references.html#Sauer)\n",
    "- Section 3.1 *Interpolation and the Lagrange Polynomial* of [Burden&Faires](../references.html#Burden-Faires)\n",
    "- Section 4.2 *Errors in Polynomial Interpolation* of [Chenney&Kincaid](../references.html#Chenney-Kincaid)"
   ]
  },
  {
   "cell_type": "markdown",
   "metadata": {},
   "source": [
    "## Introduction\n",
    "\n",
    "When a polynomial $P_n$ is given by collocation to $n+1$ points $(x_i, y_i)$, $y_i = f(x_i)$ on the graph of a function $f$, one can ask how accurate it is as an approximation of $f$ at points $x$ other than the nodes: what is the error $E(x) = f(x) - P(x)$?\n",
    "\n",
    "One again, the result is motivated by considering the simplest non-trival case: $f$ a polynomial of degree one too high for an exact fit, so of degree $n+1$.\n",
    "The result is also analogous to the familiar error formula for Taylor polynonial approximations."
   ]
  },
  {
   "cell_type": "markdown",
   "metadata": {},
   "source": [
    "## Error in $P_n(x)$ collocating a polynomial of degree $n+1$\n",
    "\n",
    "With $f(x) = c_{n+1} x^{n+1} + c_{n} x^{n} + \\cdots + c_0$ a polynomial of degree $n+1$ and $P_n(x)$ the unique polynomial of degree at most $n$ that collocates with it at the $n+1$ nodes $x_0, \\dots x_n$, the error\n",
    "\n",
    "$$ E_n(x) = f(x) - P(x) $$\n",
    "\n",
    "is a polynomial of degree $n+1$ with all its roots known: the nodes $x_i$.\n",
    "Thus it can be factorized as\n",
    "\n",
    "$$ E_n(x) = C (x-x_0) \\cdot (x-x_1) \\cdots (x-x_n) = Cx^{n+1} + \\text{lower powers of $x$.} $$\n",
    "\n",
    "On the other hand, the only term of degree $x^{n+1}$ in $f(x) - P(x)$ is the leading term of $f(x)$, $c_{n+1} x^{n+1}$.\n",
    "Thus $C = c_{n+1}$.\n",
    "\n",
    "It will be convenient to note that the order $n+1$ derivative of $f$ is the constant\n",
    "$D^{n+1}f(x) = (n+1)! c_{n+1}$, so the error can be written as\n",
    "\n",
    "$$\n",
    "E_n(x) = f(x) - P_n(x) = \\frac{D^{n+1}f(x)}{(n+1)!} (x-x_0) \\cdots (x-x_n)\n",
    "= \\frac{D^{n+1}f(x)}{(n+1)!}\\prod\\limits_{i=0}^n (x - x_i).\n",
    "$$"
   ]
  },
  {
   "cell_type": "markdown",
   "metadata": {},
   "source": [
    "## Error in $P_n(x)$ collocating a sufficiently differentiable function\n",
    "\n",
    "**Theorem 1.**\n",
    "For a function $f$ with continuous derivative of order $n+1$, $D^{n+1}f$,\n",
    "the polynomial $P_n$ of degree at most $n$ that fits the points $(x_i, f(x_i)$ $0 \\leq i \\leq n$ differs from $f$ by\n",
    "\n",
    "$$\n",
    "E_n(x) = f(x) - P_n(x) = \\frac{D^{n+1}f(\\xi)}{(n+1)!}\\prod\\limits_{i=0}^n (x - x_i)\n",
    "$$\n",
    "\n",
    "for some value of $\\xi$ that is amongst the $n+2$ points $x_0, \\dots x_n$ and $x$.\n",
    "\n",
    "In particular, when $a \\leq x_0 < x_1 \\cdots < x_n \\leq b$ and $x \\in [a,b]$, then also $\\xi \\in [a, b]$."
   ]
  },
  {
   "cell_type": "markdown",
   "metadata": {},
   "source": [
    "Note the similarity to the error formula for the Taylor polynomial $p_n$ with center $x_0$:\n",
    "\n",
    "$$\n",
    "e_n(x) = f(x) - p_n(x) = \\frac{D^{n+1}f(\\xi)}{(n+1)!} (x-x_0)^{n+1},\\, \\text{some $\\xi$ between $x_0$ and $x$.}\n",
    "$$\n",
    "\n",
    "This is effectively the limit when all the $x_i$ congeal to $x_0$."
   ]
  },
  {
   "cell_type": "markdown",
   "metadata": {},
   "source": [
    "## Error bound with equally spaced nodes is $O(h^{n+1})$, but ...\n",
    "\n",
    "An important special case is when there is a single parameter $h$ describing the spacing of the nodes; when they are the equally spaced values $x_i = a + i h$, $0 \\leq i \\leq n$, so that $x_0 = a$ and $x_n = b$ with $h = \\displaystyle \\frac{b-a}{n}$.\n",
    "Then there is a somewhat more practically usable error bound:\n",
    "\n",
    "**Theorem 2.**\n",
    "For $x \\in [a,b]$ and the above equaly spaced nodes in that interval $[a,b]$,\n",
    "\n",
    "$$\n",
    "| E_n(x) | = \\left| f(x) - P_n(x)\\right| \\leq \\frac{M_{n+1}}{n+1} h^{n+1}, = O(h^{n+1}),\n",
    "$$\n",
    "\n",
    "where $M_{n+1} = \\max\\limits_{x \\in [a,b]} | D^{n+1}f(x)|$."
   ]
  },
  {
   "cell_type": "markdown",
   "metadata": {},
   "source": [
    "## Getting convergence: piecewise linear interpolation\n",
    "\n",
    "A major practical problem with this error bound is that is does not in general guarantee convergence $P_n(x) \\to f(x)$ as $n \\to \\infty$ with fixed interval $[a, b]$, because in some cases $M_{n+1}$ grows too fast.\n",
    "\n",
    "A solution is to use collocaton with just a fixed number of nodes $m$ as $h \\to 0$ and the total node count $n \\to \\infty$.\n",
    "That is, for each $x$, approximate $f(x)$ using just data from a suitable choice of $m+1$ nodes near $x$.\n",
    "Then $M_{m+1}$ is a constant, and one has the convergence result\n",
    "\n",
    "$$ | E_m(x) | = O(h^{m+1}) $$\n",
    "\n",
    "so long as $f$ has a continuous derivative of order $m+1$.\n",
    "\n",
    "For example, taking $n=1$, one can approximate $f(x)$ using the two surrounding nodes $x_i$ and $x_{i+1}$ determined by having $x_i \\leq x \\leq x_{i+1}$.\n",
    "This is **piecewise linear interpolation,** with error $O(h^2)$ for any twice cotinuously differentiable function.\n",
    "\n",
    "By the way, integrating this piecewise linear approximation over interval $[a, b]$ gives the Compound Trapezoid Rule approximation of $\\int_a^b f(x) dx$, also with error $O(h^2)$."
   ]
  }
 ],
 "metadata": {
  "kernelspec": {
   "display_name": "Python 3",
   "language": "python",
   "name": "python3"
  },
  "language_info": {
   "codemirror_mode": {
    "name": "ipython",
    "version": 3
   },
   "file_extension": ".py",
   "mimetype": "text/x-python",
   "name": "python",
   "nbconvert_exporter": "python",
   "pygments_lexer": "ipython3",
   "version": "3.8.5"
  }
 },
 "nbformat": 4,
 "nbformat_minor": 4
}
